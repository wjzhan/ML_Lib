{
  "nbformat": 4,
  "nbformat_minor": 0,
  "metadata": {
    "kernelspec": {
      "display_name": "Python 3",
      "language": "python",
      "name": "python3"
    },
    "language_info": {
      "codemirror_mode": {
        "name": "ipython",
        "version": 3
      },
      "file_extension": ".py",
      "mimetype": "text/x-python",
      "name": "python",
      "nbconvert_exporter": "python",
      "pygments_lexer": "ipython3",
      "version": "3.6.8"
    },
    "colab": {
      "name": "LAHW5_colab",
      "provenance": [],
      "collapsed_sections": []
    }
  },
  "cells": [
    {
      "cell_type": "markdown",
      "metadata": {
        "id": "fG5eWPpO3cMC"
      },
      "source": [
        "# **HW5 -- Linear Regression** \n",
        "\n",
        "TA: Chien-cheng (Jeff) Chen 陳建成"
      ]
    },
    {
      "cell_type": "markdown",
      "metadata": {
        "id": "yV3sjMsiT4et"
      },
      "source": [
        "## Let's download the homework file to colab!!\n",
        "Press the run button, and you will download HW5!!\n",
        "### This command will only need to be executed once!!"
      ]
    },
    {
      "cell_type": "code",
      "metadata": {
        "colab": {
          "base_uri": "https://localhost:8080/"
        },
        "id": "704u5TQe18cj",
        "outputId": "aa625dd1-84d6-4af7-ef9b-df94659c8f23"
      },
      "source": [
        "import os\n",
        "\n",
        "%cd /content\n",
        "\n",
        "if not os.path.isdir(\"LinearAlgebraHW5\"): \n",
        "    !git clone 'https://github.com/jeffeuxMartin/LinearAlgebraHW5'\n",
        "\n",
        "%cd LinearAlgebraHW5\n",
        "\n",
        "!ls -R  # check if the data is loaded"
      ],
      "execution_count": null,
      "outputs": [
        {
          "output_type": "stream",
          "name": "stdout",
          "text": [
            "/content\n",
            "Cloning into 'LinearAlgebraHW5'...\n",
            "remote: Enumerating objects: 31, done.\u001b[K\n",
            "remote: Counting objects: 100% (13/13), done.\u001b[K\n",
            "remote: Compressing objects: 100% (13/13), done.\u001b[K\n",
            "remote: Total 31 (delta 4), reused 5 (delta 0), pack-reused 18\u001b[K\n",
            "Unpacking objects: 100% (31/31), done.\n",
            "/content/LinearAlgebraHW5\n",
            ".:\n",
            "data  lg.py  main.py  README.md\n",
            "\n",
            "./data:\n",
            "train.csv  validation.csv\n"
          ]
        }
      ]
    },
    {
      "cell_type": "markdown",
      "metadata": {
        "id": "VlxbxMh7UAfn"
      },
      "source": [
        "# What you should do!\n",
        "After downloading the files, you should go to finish TODO in **lg.py** to finsh your homework. After that, you should change N in main.py to obtain the testing results later on."
      ]
    },
    {
      "cell_type": "code",
      "source": [
        "!python main.py"
      ],
      "metadata": {
        "id": "9zXgpSYsFctl"
      },
      "execution_count": null,
      "outputs": []
    },
    {
      "cell_type": "code",
      "source": [
        "#@title Try to obtain testing data! {run: \"auto\"}\n",
        "import IPython\n",
        "from IPython.display import clear_output\n",
        "from google.colab import files, output\n",
        "\n",
        "N =  4# @param { type: \"integer\" }\n",
        "N = int(N)\n",
        "\n",
        "assert N > 0, \"N needs to be positive!\"\n",
        "\n",
        "print(f\"Your `N` is chosen to be \\033[01;31m {N}\\033[0m...\")\n",
        "\n",
        "print()\n",
        "\n",
        "display(IPython.display.HTML('''\n",
        "    <p>\n",
        "        <button id='buttond'>Download</button>\n",
        "        &emsp;\n",
        "        <button id='buttonu'>Upload</button>\n",
        "        <script>\n",
        "            document.querySelector('#buttond').onclick = () => {\n",
        "            google.colab.kernel.invokeFunction('notebook.uploader', [], {});\n",
        "            };\n",
        "            document.querySelector('#buttonu').onclick = () => {\n",
        "            google.colab.kernel.invokeFunction('notebook.downloader', [], {});\n",
        "            };\n",
        "        </script>\n",
        "        <br />\n",
        "    </p>\n",
        "    '''))\n",
        "\n",
        "\n",
        "def download():\n",
        "    try:\n",
        "        fname_dict = files.upload()\n",
        "        clear_output()\n",
        "        test_file = list(fname_dict.keys())[0]\n",
        "        obtained_file = !mktemp\n",
        "        obtained_file = obtained_file[0]\n",
        "        !wget -q -O \"{obtained_file}\" https://gist.github.com/jeffeuxMartin/72e7880135b7913245206b7ffe7071f3/raw/d19a39c2b1abdc8c98e36a0ff0f8dfd80944d1ff/judge_file.sh?f=qeiprughqpeiuwfdpiowe\n",
        "        !bash \"{obtained_file}\" {N} \"{test_file}\"\n",
        "        !rm -f \"{obtained_file}\"\n",
        "    except:\n",
        "        pass\n",
        "\n",
        "def upload():\n",
        "    test_file = f\"test_{N}.csv\"\n",
        "    obtained_file = !mktemp\n",
        "    obtained_file = obtained_file[0]\n",
        "    !wget -q -O \"{obtained_file}\" https://gist.github.com/jeffeuxMartin/72e7880135b7913245206b7ffe7071f3/raw/99998651a30172f9ea080f8b3fa7bf0d879b26b4/obtain_file.sh?f=qeiprughqpeiuwfdpiowe\n",
        "    !bash \"{obtained_file}\" {N} \"{test_file}\"\n",
        "    !rm -f \"{obtained_file}\"\n",
        "    files.download(test_file)\n",
        "\n",
        "output.register_callback('notebook.uploader', upload)\n",
        "output.register_callback('notebook.downloader', download)"
      ],
      "metadata": {
        "colab": {
          "base_uri": "https://localhost:8080/",
          "height": 93
        },
        "cellView": "form",
        "id": "Bqiza1EYkeWw",
        "outputId": "fc27af50-4b93-42c1-e9a5-1f73299e58e8"
      },
      "execution_count": null,
      "outputs": [
        {
          "output_type": "stream",
          "name": "stdout",
          "text": [
            "Your `N` is chosen to be \u001b[01;31m 4\u001b[0m...\n",
            "\n"
          ]
        },
        {
          "output_type": "display_data",
          "data": {
            "text/html": [
              "\n",
              "    <p>\n",
              "        <button id='buttond'>Download</button>\n",
              "        &emsp;\n",
              "        <button id='buttonu'>Upload</button>\n",
              "        <script>\n",
              "            document.querySelector('#buttond').onclick = () => {\n",
              "            google.colab.kernel.invokeFunction('notebook.uploader', [], {});\n",
              "            };\n",
              "            document.querySelector('#buttonu').onclick = () => {\n",
              "            google.colab.kernel.invokeFunction('notebook.downloader', [], {});\n",
              "            };\n",
              "        </script>\n",
              "        <br />\n",
              "    </p>\n",
              "    "
            ],
            "text/plain": [
              "<IPython.core.display.HTML object>"
            ]
          },
          "metadata": {}
        }
      ]
    }
  ]
}