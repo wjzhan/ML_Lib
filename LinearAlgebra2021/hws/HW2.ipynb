{
  "nbformat": 4,
  "nbformat_minor": 0,
  "metadata": {
    "colab": {
      "name": "Copy of HW2.ipynb",
      "provenance": [],
      "collapsed_sections": []
    },
    "kernelspec": {
      "name": "python3",
      "display_name": "Python 3"
    }
  },
  "cells": [
    {
      "cell_type": "markdown",
      "metadata": {
        "id": "f-DxLe4YcQ5M"
      },
      "source": [
        "# HW2"
      ]
    },
    {
      "cell_type": "markdown",
      "metadata": {
        "id": "AkqSvvyycdpb"
      },
      "source": [
        "If you are familiar with python, you can use your own command line to finish your homework!!\n",
        "\n",
        "> Indented block\n",
        "\n",
        "\n",
        "### In ipynb, if starting with exclamation mark (!), which means the command is executed in shell."
      ]
    },
    {
      "cell_type": "markdown",
      "metadata": {
        "id": "n7APdS8Scg3b"
      },
      "source": [
        "## Let's download the homework file to colab!!\n",
        "Press the run button, and you will download HW2!!\n",
        "### This command will only need to be executed once!!"
      ]
    },
    {
      "cell_type": "code",
      "metadata": {
        "colab": {
          "base_uri": "https://localhost:8080/"
        },
        "id": "xF6YnQLm54fl",
        "outputId": "f250433e-d896-4ad1-bdf2-ee46675a0aae"
      },
      "source": [
        "from google.colab import drive\n",
        "drive.mount('/content/drive')"
      ],
      "execution_count": null,
      "outputs": [
        {
          "output_type": "stream",
          "name": "stdout",
          "text": [
            "Mounted at /content/drive\n"
          ]
        }
      ]
    },
    {
      "cell_type": "code",
      "metadata": {
        "id": "9IKwpqtcbt7_",
        "colab": {
          "base_uri": "https://localhost:8080/"
        },
        "outputId": "df637084-c4c2-4c13-b9e0-ad5e66fc0da2"
      },
      "source": [
        "!git clone https://github.com/LinearAlgebraLee/HW2.git\n",
        "%cd HW2"
      ],
      "execution_count": null,
      "outputs": [
        {
          "output_type": "stream",
          "name": "stdout",
          "text": [
            "Cloning into 'HW2'...\n",
            "remote: Enumerating objects: 6, done.\u001b[K\n",
            "remote: Counting objects: 100% (6/6), done.\u001b[K\n",
            "remote: Compressing objects: 100% (6/6), done.\u001b[K\n",
            "remote: Total 6 (delta 0), reused 0 (delta 0), pack-reused 0\u001b[K\n",
            "Unpacking objects: 100% (6/6), done.\n",
            "/content/HW2\n"
          ]
        }
      ]
    },
    {
      "cell_type": "markdown",
      "metadata": {
        "id": "zy6Gc0YocvBq"
      },
      "source": [
        "# What you should do!\n",
        "After downloading the files, you should go to modify **p1.py** and **p2.py** to finsh your homework."
      ]
    },
    {
      "cell_type": "markdown",
      "metadata": {
        "id": "ZZMb_C2scx0q"
      },
      "source": [
        "# Must Run"
      ]
    },
    {
      "cell_type": "markdown",
      "metadata": {
        "id": "Si8Haj5bcyui"
      },
      "source": [
        "After finishing the first problem in **p1.py** and **p2.py**,  run the following command to get the answer sheet for problem 1 and 2.\n",
        "\n",
        "The input after the **main.py** should be your student id, or else you will not get full credits.\n",
        "\n",
        "You should only run the command!  You should not modify the code in main.py and util.py, or else you will not the credits.\n"
      ]
    },
    {
      "cell_type": "code",
      "metadata": {
        "id": "M9OFlVP1c2Da"
      },
      "source": [
        "!python main.py test1"
      ],
      "execution_count": null,
      "outputs": []
    },
    {
      "cell_type": "markdown",
      "metadata": {
        "id": "HRGtd0hY8Ndk"
      },
      "source": [
        "# Run me to get `p1.py p2.py`!"
      ]
    },
    {
      "cell_type": "markdown",
      "metadata": {
        "id": "kUTN-Sp48dAm"
      },
      "source": [
        "**IMPORTANT**: To get the correct result, you should execute the block with **p1_has_cycle** first and run this part directly afterward."
      ]
    },
    {
      "cell_type": "code",
      "metadata": {
        "colab": {
          "base_uri": "https://localhost:8080/",
          "height": 17
        },
        "id": "dAulQ5xm4Fwa",
        "outputId": "16558713-73d5-4b84-a229-82ec6d8cfb65"
      },
      "source": [
        "from google.colab import files\n",
        "\n",
        "files.download(\"p1.py\")\n",
        "files.download(\"p2.py\")"
      ],
      "execution_count": null,
      "outputs": [
        {
          "output_type": "display_data",
          "data": {
            "application/javascript": [
              "\n",
              "    async function download(id, filename, size) {\n",
              "      if (!google.colab.kernel.accessAllowed) {\n",
              "        return;\n",
              "      }\n",
              "      const div = document.createElement('div');\n",
              "      const label = document.createElement('label');\n",
              "      label.textContent = `Downloading \"${filename}\": `;\n",
              "      div.appendChild(label);\n",
              "      const progress = document.createElement('progress');\n",
              "      progress.max = size;\n",
              "      div.appendChild(progress);\n",
              "      document.body.appendChild(div);\n",
              "\n",
              "      const buffers = [];\n",
              "      let downloaded = 0;\n",
              "\n",
              "      const channel = await google.colab.kernel.comms.open(id);\n",
              "      // Send a message to notify the kernel that we're ready.\n",
              "      channel.send({})\n",
              "\n",
              "      for await (const message of channel.messages) {\n",
              "        // Send a message to notify the kernel that we're ready.\n",
              "        channel.send({})\n",
              "        if (message.buffers) {\n",
              "          for (const buffer of message.buffers) {\n",
              "            buffers.push(buffer);\n",
              "            downloaded += buffer.byteLength;\n",
              "            progress.value = downloaded;\n",
              "          }\n",
              "        }\n",
              "      }\n",
              "      const blob = new Blob(buffers, {type: 'application/binary'});\n",
              "      const a = document.createElement('a');\n",
              "      a.href = window.URL.createObjectURL(blob);\n",
              "      a.download = filename;\n",
              "      div.appendChild(a);\n",
              "      a.click();\n",
              "      div.remove();\n",
              "    }\n",
              "  "
            ],
            "text/plain": [
              "<IPython.core.display.Javascript object>"
            ]
          },
          "metadata": {}
        },
        {
          "output_type": "display_data",
          "data": {
            "application/javascript": [
              "download(\"download_8f4e9874-5688-4de8-8a27-407cbdd831ae\", \"p1.py\", 641)"
            ],
            "text/plain": [
              "<IPython.core.display.Javascript object>"
            ]
          },
          "metadata": {}
        },
        {
          "output_type": "display_data",
          "data": {
            "application/javascript": [
              "\n",
              "    async function download(id, filename, size) {\n",
              "      if (!google.colab.kernel.accessAllowed) {\n",
              "        return;\n",
              "      }\n",
              "      const div = document.createElement('div');\n",
              "      const label = document.createElement('label');\n",
              "      label.textContent = `Downloading \"${filename}\": `;\n",
              "      div.appendChild(label);\n",
              "      const progress = document.createElement('progress');\n",
              "      progress.max = size;\n",
              "      div.appendChild(progress);\n",
              "      document.body.appendChild(div);\n",
              "\n",
              "      const buffers = [];\n",
              "      let downloaded = 0;\n",
              "\n",
              "      const channel = await google.colab.kernel.comms.open(id);\n",
              "      // Send a message to notify the kernel that we're ready.\n",
              "      channel.send({})\n",
              "\n",
              "      for await (const message of channel.messages) {\n",
              "        // Send a message to notify the kernel that we're ready.\n",
              "        channel.send({})\n",
              "        if (message.buffers) {\n",
              "          for (const buffer of message.buffers) {\n",
              "            buffers.push(buffer);\n",
              "            downloaded += buffer.byteLength;\n",
              "            progress.value = downloaded;\n",
              "          }\n",
              "        }\n",
              "      }\n",
              "      const blob = new Blob(buffers, {type: 'application/binary'});\n",
              "      const a = document.createElement('a');\n",
              "      a.href = window.URL.createObjectURL(blob);\n",
              "      a.download = filename;\n",
              "      div.appendChild(a);\n",
              "      a.click();\n",
              "      div.remove();\n",
              "    }\n",
              "  "
            ],
            "text/plain": [
              "<IPython.core.display.Javascript object>"
            ]
          },
          "metadata": {}
        },
        {
          "output_type": "display_data",
          "data": {
            "application/javascript": [
              "download(\"download_e0dbe278-8f40-4207-9585-1a1e67212df8\", \"p2.py\", 723)"
            ],
            "text/plain": [
              "<IPython.core.display.Javascript object>"
            ]
          },
          "metadata": {}
        }
      ]
    },
    {
      "cell_type": "markdown",
      "metadata": {
        "id": "yGN6MQIFdWjR"
      },
      "source": [
        "The following is playground for you to debug, you can play around to test out your code!!\n",
        "# VERY IMPORTANT for ipynb\n",
        "if you modify functions in python code! If you have imported to the ipynb, you should close out the notebook and rerun to import your modified functions."
      ]
    },
    {
      "cell_type": "code",
      "metadata": {
        "id": "BnrglSS8fMyY"
      },
      "source": [
        "from util import mod_inv\n",
        "import numpy as np\n",
        "\n",
        "letters = 'ABCDEFGHIJKLMNOPQRSTUVWXYZ_.,?!'"
      ],
      "execution_count": null,
      "outputs": []
    },
    {
      "cell_type": "code",
      "metadata": {
        "id": "3vZTIiDHhCps",
        "colab": {
          "base_uri": "https://localhost:8080/",
          "height": 35
        },
        "outputId": "270e1507-4644-4a6f-f1f7-eb320dff0917"
      },
      "source": [
        "plain = 'IS_THAT_W'\n",
        "plain = [letters.index(i) for i in plain]\n",
        "print(plain)"
      ],
      "execution_count": null,
      "outputs": [
        {
          "output_type": "stream",
          "text": [
            "[8, 18, 26, 19, 7, 0, 19, 26, 22]\n"
          ],
          "name": "stdout"
        }
      ]
    },
    {
      "cell_type": "code",
      "metadata": {
        "id": "ceGQ76Rnke-g",
        "colab": {
          "base_uri": "https://localhost:8080/",
          "height": 71
        },
        "outputId": "84bc10a9-2dbc-4675-f93d-874d5ffbca1b"
      },
      "source": [
        "plain = np.reshape(plain, (3, 3)).T\n",
        "print(plain)"
      ],
      "execution_count": null,
      "outputs": [
        {
          "output_type": "stream",
          "text": [
            "[[ 8 19 19]\n",
            " [18  7 26]\n",
            " [26  0 22]]\n"
          ],
          "name": "stdout"
        }
      ]
    },
    {
      "cell_type": "code",
      "metadata": {
        "id": "RRlOMVYUiMls",
        "colab": {
          "base_uri": "https://localhost:8080/",
          "height": 125
        },
        "outputId": "12f5f796-63b6-4ec2-9af2-f9c5c71a88cb"
      },
      "source": [
        "key = '25 8 25 9 9 16 28 21 18'\n",
        "key = [int(k) for k in key.split()]\n",
        "key = np.array(key).reshape(3, 3)\n",
        "print(key)\n",
        "inv = mod_inv(key)\n",
        "print(inv)"
      ],
      "execution_count": null,
      "outputs": [
        {
          "output_type": "stream",
          "text": [
            "[[25  8 25]\n",
            " [ 9  9 16]\n",
            " [28 21 18]]\n",
            "[[ 5 27 19]\n",
            " [21 25  2]\n",
            " [28 27 25]]\n"
          ],
          "name": "stdout"
        }
      ]
    },
    {
      "cell_type": "code",
      "metadata": {
        "id": "6DU1QUhZpIgn",
        "colab": {
          "base_uri": "https://localhost:8080/",
          "height": 71
        },
        "outputId": "6dbff503-3858-45b0-8974-67d753d45def"
      },
      "source": [
        "cipher = np.mod(key @ plain, 31)\n",
        "cipher"
      ],
      "execution_count": null,
      "outputs": [
        {
          "output_type": "execute_result",
          "data": {
            "text/plain": [
              "array([[ 2,  4, 24],\n",
              "       [30, 17, 13],\n",
              "       [16, 28, 17]])"
            ]
          },
          "metadata": {
            "tags": []
          },
          "execution_count": 6
        }
      ]
    },
    {
      "cell_type": "code",
      "metadata": {
        "id": "S20Hp-xyko2I",
        "colab": {
          "base_uri": "https://localhost:8080/",
          "height": 35
        },
        "outputId": "3d3ba896-46c2-4d03-c42b-5636a8efa974"
      },
      "source": [
        "plain2text = []\n",
        "for p in plain.T.flatten():\n",
        "  plain2text.append(letters[p])\n",
        "print(''.join(plain2text))"
      ],
      "execution_count": null,
      "outputs": [
        {
          "output_type": "stream",
          "text": [
            "IS_THAT_W\n"
          ],
          "name": "stdout"
        }
      ]
    }
  ]
}