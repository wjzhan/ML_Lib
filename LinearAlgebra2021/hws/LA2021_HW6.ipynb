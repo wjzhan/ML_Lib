{
  "nbformat": 4,
  "nbformat_minor": 0,
  "metadata": {
    "colab": {
      "name": "Linear_Algebra_HW6.ipynb",
      "provenance": [],
      "collapsed_sections": []
    },
    "kernelspec": {
      "name": "python3",
      "display_name": "Python 3"
    },
    "language_info": {
      "name": "python"
    }
  },
  "cells": [
    {
      "cell_type": "markdown",
      "metadata": {
        "id": "3KC4OmxJYLp0"
      },
      "source": [
        "# HW6\n",
        "If you are familiar with python, you can use your own command line to finish your homework!!\n",
        "\n",
        "\n",
        "### In ipynb, if starting with exclamation mark (!), which means the command is executed in shell."
      ]
    },
    {
      "cell_type": "markdown",
      "metadata": {
        "id": "AVZi8ZFPfo_F"
      },
      "source": [
        "## Let's download the homework file to colab!!\n",
        "Press the run button, and you will download HW6!!\n",
        "### This command will only need to be executed once!!"
      ]
    },
    {
      "cell_type": "code",
      "metadata": {
        "id": "i4Ny74BCbodC",
        "colab": {
          "base_uri": "https://localhost:8080/"
        },
        "outputId": "b5ef59dc-58e6-46eb-8e29-f3529e9498e3"
      },
      "source": [
        "!gdown https://drive.google.com/uc?id=1Ln0l3QQvZfQEB-a2r5wYEjT0hE_DQg68&export=download\n",
        "!unzip -j hw6.zip\n",
        "!mkdir imgs\n",
        "!mv ./*.png ./imgs"
      ],
      "execution_count": null,
      "outputs": [
        {
          "output_type": "stream",
          "name": "stdout",
          "text": [
            "Downloading...\n",
            "From: https://drive.google.com/uc?id=1Ln0l3QQvZfQEB-a2r5wYEjT0hE_DQg68\n",
            "To: /content/hw6.zip\n",
            "\r  0% 0.00/4.42M [00:00<?, ?B/s]\r100% 4.42M/4.42M [00:00<00:00, 24.0MB/s]\n",
            "Archive:  hw6.zip\n",
            "  inflating: crop.py                 \n",
            "  inflating: Figure1.png             \n",
            "  inflating: Figure2.png             \n",
            "  inflating: Figure3.png             \n",
            "  inflating: Figure4.png             \n",
            "  inflating: Figure5.png             \n",
            "  inflating: main.py                 \n",
            "  inflating: todo.py                 \n",
            "  inflating: utils.py                \n",
            "mkdir: cannot create directory ‘imgs’: File exists\n"
          ]
        }
      ]
    },
    {
      "cell_type": "code",
      "metadata": {
        "id": "Dp8AEZ_KyZnh",
        "colab": {
          "base_uri": "https://localhost:8080/"
        },
        "outputId": "66615b3c-2d3c-4bfa-b194-d49b6cf189ca"
      },
      "source": [
        "!ls # check if the data is loaded"
      ],
      "execution_count": null,
      "outputs": [
        {
          "output_type": "stream",
          "name": "stdout",
          "text": [
            "crop.py  hw6.zip  imgs\tmain.py  __pycache__  sample_data  todo.py  utils.py\n"
          ]
        }
      ]
    },
    {
      "cell_type": "markdown",
      "metadata": {
        "id": "nXLJbFYGghV_"
      },
      "source": [
        "# What you should do!\n",
        "After downloading the files, you should go to modify **todo.py** to finsh your homework."
      ]
    },
    {
      "cell_type": "markdown",
      "metadata": {
        "id": "9F3ToRd7YUPt"
      },
      "source": [
        "### Package\n",
        "* PIL\n",
        "* numpy\n",
        "* matplotlib\n",
        "\n",
        "Already installed in colab. You may need to intall them by yourself if you're using your own command line.\n",
        "\n",
        "You can install them by:\n",
        "\n",
        "    $ pip install pillow\n",
        "    $ pip install numpy\n",
        "    $ pip install matplotlib"
      ]
    },
    {
      "cell_type": "markdown",
      "metadata": {
        "id": "OQ0jNASvg-lr"
      },
      "source": [
        "# Must Run\n",
        "\n",
        "After finishing the **todo.py**, run the following command to get the answer. (You will get an image that is totally black if you execute this without finishing **todo.py**)\n",
        "\n",
        "You should only run the command!  For Q2, you should not modify the code in main.py and util.py, to ensure that your results are the same with ours.\n",
        "\n",
        "\n",
        "\n"
      ]
    },
    {
      "cell_type": "code",
      "metadata": {
        "id": "SuXy0lbFYixd",
        "colab": {
          "base_uri": "https://localhost:8080/"
        },
        "outputId": "fd47d728-34e3-4156-cfab-8a0a55a0141c"
      },
      "source": [
        "!python main.py"
      ],
      "execution_count": null,
      "outputs": [
        {
          "output_type": "stream",
          "name": "stdout",
          "text": [
            "images in folder\n",
            "\t imgs/result_600.png\n",
            "\t imgs/result_5.png\n",
            "\t imgs/Figure3.png\n",
            "\t imgs/result_400.png\n",
            "\t imgs/result_50.png\n",
            "\t imgs/result_1.png\n",
            "\t imgs/result_800.png\n",
            "\t imgs/result_150.png\n",
            "\t imgs/Figure5.png\n",
            "\t imgs/Figure2.png\n",
            "\t imgs/Figure4.png\n",
            "\t imgs/Figure1.png\n",
            "\t imgs/result_1050.png\n",
            "\t imgs/result_1200.png\n",
            "\t imgs/curve.png\n",
            "Loading imgs/Figure1.png\n",
            "imArr size (3024, 4032, 3)\n",
            "Perform SVD for k=1 ...\n",
            "err 0.5330430443102453\n",
            "Perform SVD for k=5 ...\n",
            "err 0.5330430443102453\n",
            "Perform SVD for k=50 ...\n",
            "err 0.5330430443102453\n",
            "Perform SVD for k=150 ...\n",
            "err 0.5330430443102453\n",
            "Perform SVD for k=400 ...\n",
            "err 0.5330430443102453\n",
            "Perform SVD for k=600 ...\n",
            "err 0.5330430443102453\n",
            "Perform SVD for k=800 ...\n",
            "err 0.5330430443102453\n",
            "Perform SVD for k=1050 ...\n",
            "err 0.5330430443102453\n",
            "Perform SVD for k=1200 ...\n",
            "err 0.5330430443102453\n"
          ]
        }
      ]
    },
    {
      "cell_type": "markdown",
      "metadata": {
        "id": "6YzeZ7I5hZB1"
      },
      "source": [
        "# Playground\n",
        "\n",
        "The following part is the same as main.py. You can modify it to experiement different settings, and you might find it helpful for Q4\n",
        "\n",
        "\n",
        "\n"
      ]
    },
    {
      "cell_type": "code",
      "metadata": {
        "id": "WQ1-6t0UYdTi",
        "colab": {
          "base_uri": "https://localhost:8080/",
          "height": 920
        },
        "outputId": "18628a9c-3156-479a-9e4c-6e9857500463"
      },
      "source": [
        "from utils import *\n",
        "from todo import svd_compress\n",
        "import os\n",
        "\n",
        "def main():\n",
        "    print(\"images in folder\")\n",
        "    for imgf in os.listdir(\"imgs\"):\n",
        "        img_path = os.path.join(\"imgs\",imgf)\n",
        "        print(\"\\t\",img_path)\n",
        "    img_path = 'imgs/Figure1.png'\n",
        "    print(\"Loading\",img_path)\n",
        "    imArr = load_image(img_path)\n",
        "    print(\"imArr size\",imArr.shape)\n",
        "    #ks = [5]\n",
        "    ks = [1,5, 50, 150, 400, 600, 800, 1050, 1200]\n",
        "    err = []\n",
        "    for k in ks:\n",
        "        print(\"Perform SVD for k=%d ...\" % k)\n",
        "        imArr_compressed = svd_compress(imArr, K=k)\n",
        "        err += [approx_error(imArr, imArr_compressed)]\n",
        "        save_image(imArr_compressed, 'result_{}.png'.format(k))\n",
        "        print(\"err\",err[-1])\n",
        "    plot_curve(ks, err, show=False)\n",
        "\n",
        "if __name__ == '__main__':\n",
        "    main()\n"
      ],
      "execution_count": null,
      "outputs": [
        {
          "output_type": "stream",
          "name": "stdout",
          "text": [
            "images in folder\n",
            "\t imgs/result_600.png\n",
            "\t imgs/result_5.png\n",
            "\t imgs/Figure3.png\n",
            "\t imgs/result_400.png\n",
            "\t imgs/result_50.png\n",
            "\t imgs/result_1.png\n",
            "\t imgs/result_800.png\n",
            "\t imgs/result_150.png\n",
            "\t imgs/Figure5.png\n",
            "\t imgs/Figure2.png\n",
            "\t imgs/Figure4.png\n",
            "\t imgs/Figure1.png\n",
            "\t imgs/result_1050.png\n",
            "\t imgs/result_1200.png\n",
            "\t imgs/curve.png\n",
            "Loading imgs/Figure1.png\n",
            "imArr size (3024, 4032, 3)\n",
            "Perform SVD for k=1 ...\n",
            "err 0.5330430443102453\n",
            "Perform SVD for k=5 ...\n",
            "err 0.5330430443102453\n",
            "Perform SVD for k=50 ...\n",
            "err 0.5330430443102453\n",
            "Perform SVD for k=150 ...\n",
            "err 0.5330430443102453\n",
            "Perform SVD for k=400 ...\n",
            "err 0.5330430443102453\n",
            "Perform SVD for k=600 ...\n",
            "err 0.5330430443102453\n",
            "Perform SVD for k=800 ...\n",
            "err 0.5330430443102453\n",
            "Perform SVD for k=1050 ...\n",
            "err 0.5330430443102453\n",
            "Perform SVD for k=1200 ...\n",
            "err 0.5330430443102453\n"
          ]
        },
        {
          "output_type": "display_data",
          "data": {
            "image/png": "[encoded data removed]",
            "text/plain": [
              "<Figure size 432x288 with 1 Axes>"
            ]
          },
          "metadata": {
            "needs_background": "light"
          }
        }
      ]
    }
  ]
}