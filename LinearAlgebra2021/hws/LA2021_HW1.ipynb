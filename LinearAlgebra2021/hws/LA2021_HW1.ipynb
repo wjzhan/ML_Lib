{
  "nbformat": 4,
  "nbformat_minor": 0,
  "metadata": {
    "kernelspec": {
      "display_name": "Python 3",
      "language": "python",
      "name": "python3"
    },
    "language_info": {
      "codemirror_mode": {
        "name": "ipython",
        "version": 3
      },
      "file_extension": ".py",
      "mimetype": "text/x-python",
      "name": "python",
      "nbconvert_exporter": "python",
      "pygments_lexer": "ipython3",
      "version": "3.6.8"
    },
    "colab": {
      "name": "LA2021_HW1",
      "provenance": [],
      "collapsed_sections": [],
      "toc_visible": true
    }
  },
  "cells": [
    {
      "cell_type": "markdown",
      "metadata": {
        "id": "fG5eWPpO3cMC"
      },
      "source": [
        "# **HW1 cycle detection** "
      ]
    },
    {
      "cell_type": "markdown",
      "metadata": {
        "id": "Ydezrsz83D0s"
      },
      "source": [
        "#### display settings..."
      ]
    },
    {
      "cell_type": "code",
      "metadata": {
        "id": "ptDmWDkw3CYU",
        "cellView": "form"
      },
      "source": [
        "Autoplay = True #@param {type: \"boolean\"}\n",
        "Loop = False #@param {type: \"boolean\"}\n",
        "Zoom = 0.48 #@param {type: \"slider\", min: 0.3, max: 0.7, step: 0.01 }\n",
        "Delay = 7 #@param {type: \"slider\", min: 1, max: 60, step: 1 }"
      ],
      "execution_count": null,
      "outputs": []
    },
    {
      "cell_type": "code",
      "metadata": {
        "colab": {
          "base_uri": "https://localhost:8080/",
          "height": 526
        },
        "id": "ueGHxY5Omx1A",
        "cellView": "form",
        "outputId": "d6dbd12f-8c61-4de5-9c13-b420cd6c5a48"
      },
      "source": [
        "#@title ###### Slides for HW1: https://docs.google.com/presentation/d/1Ey5iC-kwchNFcObwy6NqbxOx2V6wk8x388_WR7rKy6E/edit?usp=sharing { run: \"auto\" }\n",
        "\n",
        "from IPython.display import IFrame\n",
        "from ipywidgets import interactive\n",
        "\n",
        "slide_url = (\"https://docs.google.com/presentation/d/e/\"\n",
        "            \"2PACX-1vRSKjp9bxMd29rGt6VNXYpXSSBL_bweB8UQ\"\n",
        "            \"wo8aDw2bt0jsd6l85sHySu3XsXZItOAQP49NWYUotQ\"\n",
        "            \"pO/embed\")\n",
        "IFrame(src=slide_url, \n",
        "    width=1365 * Zoom, height=1053 * Zoom,\n",
        "    start=Autoplay, loop=Loop, delayms=Delay * 1000)"
      ],
      "execution_count": null,
      "outputs": [
        {
          "output_type": "execute_result",
          "data": {
            "text/html": [
              "\n",
              "        <iframe\n",
              "            width=\"655.1999999999999\"\n",
              "            height=\"505.44\"\n",
              "            src=\"https://docs.google.com/presentation/d/e/2PACX-1vRSKjp9bxMd29rGt6VNXYpXSSBL_bweB8UQwo8aDw2bt0jsd6l85sHySu3XsXZItOAQP49NWYUotQpO/embed?start=True&loop=False&delayms=7000\"\n",
              "            frameborder=\"0\"\n",
              "            allowfullscreen\n",
              "        ></iframe>\n",
              "        "
            ],
            "text/plain": [
              "<IPython.lib.display.IFrame at 0x7f7fd974f410>"
            ]
          },
          "metadata": {},
          "execution_count": 7
        }
      ]
    },
    {
      "cell_type": "markdown",
      "metadata": {
        "id": "U-v50H6WGJhZ"
      },
      "source": [
        "# Set up the environment\n",
        "### This command will only need to be executed once"
      ]
    },
    {
      "cell_type": "code",
      "metadata": {
        "id": "g9Ve1AwVGJha",
        "colab": {
          "base_uri": "https://localhost:8080/"
        },
        "outputId": "3f617278-3df1-4c2c-dfe8-9bf0d862ee59"
      },
      "source": [
        "!pip install networkx\n",
        "!pip install scipy"
      ],
      "execution_count": null,
      "outputs": [
        {
          "output_type": "stream",
          "name": "stdout",
          "text": [
            "Requirement already satisfied: networkx in /usr/local/lib/python3.7/dist-packages (2.6.3)\n",
            "Requirement already satisfied: scipy in /usr/local/lib/python3.7/dist-packages (1.4.1)\n",
            "Requirement already satisfied: numpy>=1.13.3 in /usr/local/lib/python3.7/dist-packages (from scipy) (1.19.5)\n"
          ]
        }
      ]
    },
    {
      "cell_type": "code",
      "metadata": {
        "id": "mzptxDlwehho"
      },
      "source": [
        "import numpy as np\n",
        "import time\n",
        "import networkx as nx"
      ],
      "execution_count": null,
      "outputs": []
    },
    {
      "cell_type": "markdown",
      "metadata": {
        "id": "ycLGRNVLZ8B4"
      },
      "source": [
        "# Generate graph\n",
        "You don't need to handle the code here"
      ]
    },
    {
      "cell_type": "code",
      "metadata": {
        "id": "j-2ujLEJbPTt",
        "cellView": "form"
      },
      "source": [
        "#@title\n",
        "def gen_graph(node_num, edge_num):\n",
        "    graph_list = list()\n",
        "    rec = list()\n",
        "    for _ in range(edge_num):\n",
        "        while True:\n",
        "            edge = np.random.randint(0, node_num, 2)\n",
        "            if edge[0] != edge[1]:\n",
        "                if len(rec) == 0:\n",
        "                    rec.append('{} {}'.format(edge[0], edge[1]))\n",
        "                else:\n",
        "                    if '{} {}'.format(edge[0], edge[1]) not in rec:\n",
        "                        graph_list.append(edge.tolist())\n",
        "                        rec.append('{} {}'.format(edge[0], edge[1]))\n",
        "\n",
        "                break\n",
        "    return graph_list\n",
        "\n",
        "def convert_p1(graph_list):\n",
        "    p1_list = list()\n",
        "    for graph in graph_list:\n",
        "        node_num = np.max(graph)+1\n",
        "        p1_matrix = list()\n",
        "        for x, y in graph:\n",
        "            row = [0] * node_num\n",
        "            row[x] = -1\n",
        "            row[y] = 1\n",
        "            p1_matrix.append(row)\n",
        "        p1_list.append(p1_matrix)\n",
        "    return p1_list\n",
        "\n",
        "def convert_p2(graph_list):\n",
        "    p2_list = list()\n",
        "    for graph in graph_list:\n",
        "        node_num = np.max(graph)+1\n",
        "        p2_matrix = np.zeros((node_num, node_num), dtype=int).tolist()\n",
        "        for x, y in graph:\n",
        "            p2_matrix[x][y] = 1\n",
        "        p2_list.append(p2_matrix)\n",
        "    return p2_list\n"
      ],
      "execution_count": null,
      "outputs": []
    },
    {
      "cell_type": "markdown",
      "metadata": {
        "id": "ZS93o3ptd_J-"
      },
      "source": [
        "### **Modify the number of nodes and edges here!**"
      ]
    },
    {
      "cell_type": "code",
      "metadata": {
        "id": "PQNF7DhycGuT"
      },
      "source": [
        "def gen_graph_list(size):\n",
        "    graph_list = list()\n",
        "    for _ in range(size):\n",
        "    # ---------------------------------------------------------------------------- #\n",
        "    #     Modify the number of nodes and edges here           #\n",
        "    # ---------------------------------------------------------------------------- #\n",
        "        node_num = np.random.randint(20, 60)\n",
        "        edge_num = np.random.randint(10, 50)\n",
        "        graph_list.append(gen_graph(node_num, edge_num))\n",
        "    return graph_list"
      ],
      "execution_count": null,
      "outputs": []
    },
    {
      "cell_type": "markdown",
      "metadata": {
        "id": "EB3nfNqudysM"
      },
      "source": [
        "### **Change the number of graph you want to generate here!**"
      ]
    },
    {
      "cell_type": "code",
      "metadata": {
        "id": "Dlh_S91NcGoU"
      },
      "source": [
        "def get_p1(seed):\n",
        "    seed = int(seed[2:])\n",
        "    np.random.seed(seed*10+1)\n",
        "    # ----------- Change the number of graph you want to generate here! ---------- #\n",
        "    graph_list = gen_graph_list(8)\n",
        "    return graph_list\n",
        "\n",
        "def get_p2(the_seed):\n",
        "    the_seed = int(the_seed[2:])\n",
        "    np.random.seed(the_seed*10+2)\n",
        "    # ----------- Change the number of graph you want to generate here! ---------- #\n",
        "    graph_list = gen_graph_list(8)\n",
        "    return graph_list"
      ],
      "execution_count": null,
      "outputs": []
    },
    {
      "cell_type": "markdown",
      "metadata": {
        "id": "tDoBfIuueZGH"
      },
      "source": [
        "# **Cycle detection for p1 and p2**\n",
        "## **You should complete your code here!!**\n"
      ]
    },
    {
      "cell_type": "markdown",
      "metadata": {
        "id": "yxW-wUOlLxdJ"
      },
      "source": [
        "Please finish the function of **p1_has_cycle()**."
      ]
    },
    {
      "cell_type": "code",
      "metadata": {
        "id": "4FZZxlHqfF01"
      },
      "source": [
        "from scipy.sparse import *\n",
        "import numpy as np\n",
        "\n",
        "def p1_has_cycle(sets):\n",
        "    # TODO\n",
        "    # return True if the graph has cycle; return False if not\n",
        "    '''\n",
        "      HINT: You can `print(sets)` to show what the matrix looks like\n",
        "        If we have a directed graph with 2->3 4->1 3->5 5->2 0->1\n",
        "              0  1  2  3  4  5\n",
        "            0  0  0 -1  1  0  0\n",
        "            1  0  1  0  0 -1  0\n",
        "            2  0  0  0 -1  0  1\n",
        "            3  0  0  1  0  0 -1\n",
        "            4 -1  1  0  0  0  0\n",
        "        The size of the matrix is (5,6)\n",
        "    '''\n",
        "\n",
        "    return False"
      ],
      "execution_count": null,
      "outputs": []
    },
    {
      "cell_type": "markdown",
      "metadata": {
        "id": "9m0v1Ue7MUJP"
      },
      "source": [
        "Please finish the function of **p2_has_cycle()**."
      ]
    },
    {
      "cell_type": "code",
      "metadata": {
        "id": "j5g3_FyJfMU-"
      },
      "source": [
        "from scipy.sparse import *\n",
        "import numpy as np\n",
        "\n",
        "def p2_has_cycle(sets):\n",
        "    # TODO\n",
        "    # return True if the graph has cycle; return False if not\n",
        "    '''\n",
        "      HINT: You can `print(sets)` to show what the matrix looks like\n",
        "        If we have a directed graph with 2->3 4->1 3->5 5->2 0->1\n",
        "               0  1  2  3  4  5\n",
        "            0  0  1  0  0  0  0\n",
        "            1  0  0  0  0  0  0\n",
        "            2  0  0  0  1  0  0\n",
        "            3  0  0  0  0  0  1\n",
        "            4  0  1  0  0  0  0\n",
        "            5  0  0  1  0  0  0\n",
        "        The size of the matrix is (6,6)\n",
        "    '''\n",
        "\n",
        "\n",
        "    return False"
      ],
      "execution_count": null,
      "outputs": []
    },
    {
      "cell_type": "code",
      "metadata": {
        "id": "XWmoAq6pc39D"
      },
      "source": [
        "#@title # Main function of p1 and p2\n",
        "#@markdown Run me to get testing code...\n",
        "# # @markdown You should not change the code here.\n",
        "judgeURL = \"https://gist.githubusercontent.com/jeffeuxMartin/13e921442595ac37423b92ab3d51bafe/raw/a33beee8f8180f517c6c05f4a041ef3e73909d10/judge_code__lahw1.py\"\n",
        "\n",
        "import urllib.request\n",
        "with urllib.request.urlopen(judgeURL) as response:\n",
        "   exec(response.read())"
      ],
      "execution_count": null,
      "outputs": []
    },
    {
      "cell_type": "markdown",
      "metadata": {
        "id": "X2hlQ8WlGJhk"
      },
      "source": [
        "# **Testing**"
      ]
    },
    {
      "cell_type": "code",
      "metadata": {
        "id": "yuIjZEGb1usS",
        "cellView": "form"
      },
      "source": [
        "#@markdown You can input your student ID as the seed of the random function.\n",
        "#@markdown Feel free to change it to other student IDs to see whether your function works on different graphs.\n",
        "\n",
        "student_id = \"b09901000\" #@param {type: \"string\"}"
      ],
      "execution_count": null,
      "outputs": []
    },
    {
      "cell_type": "code",
      "metadata": {
        "id": "lTWp9Nu8GJhn",
        "colab": {
          "base_uri": "https://localhost:8080/"
        },
        "outputId": "e15b1410-f977-49c8-e5ef-56749877045c"
      },
      "source": [
        "p1_main(student_id)"
      ],
      "execution_count": null,
      "outputs": [
        {
          "output_type": "stream",
          "name": "stdout",
          "text": [
            "Bug in the 1th graph. P1.\n",
            "Bug in the 2th graph. P1.\n",
            "Bug in the 5th graph. P1.\n",
            "Bug in the 6th graph. P1.\n",
            "Bug in the 7th graph. P1.\n",
            "--- Execution time for p1: 0.007255 seconds ---\n"
          ]
        }
      ]
    },
    {
      "cell_type": "code",
      "metadata": {
        "id": "E5Il0mrXGJhv",
        "colab": {
          "base_uri": "https://localhost:8080/"
        },
        "outputId": "b828c1a0-45a3-41e2-8362-13d3b248ca38"
      },
      "source": [
        "p2_main(student_id)"
      ],
      "execution_count": null,
      "outputs": [
        {
          "output_type": "stream",
          "name": "stdout",
          "text": [
            "Bug in the 1th graph. P2.\n",
            "Bug in the 2th graph. P2.\n",
            "Bug in the 3th graph. P2.\n",
            "--- Execution time for p2: 0.006277 seconds ---\n"
          ]
        }
      ]
    },
    {
      "cell_type": "markdown",
      "metadata": {
        "id": "7kn_zsHB95Jj"
      },
      "source": [
        "# **Get the files for submission**\n",
        "After you finish your homework, please execute the below code block. You will get \"p1.py\" and \"p2.py\", then upload it to NTU COOL.\n"
      ]
    },
    {
      "cell_type": "markdown",
      "metadata": {
        "id": "vAYM8gJ3ApyX"
      },
      "source": [
        "**IMPORTANT**: To get the correct result, you should execute the block with **p1_has_cycle** first and run this part directly afterward."
      ]
    },
    {
      "cell_type": "code",
      "metadata": {
        "colab": {
          "base_uri": "https://localhost:8080/",
          "height": 54
        },
        "id": "atsLHrCRxkm5",
        "outputId": "287ec8e9-bf05-4000-ef75-1e7b85af3ce4"
      },
      "source": [
        "#@title Run me to get `p1.py`!\n",
        "from google.colab import files\n",
        "from IPython.display import HTML, clear_output\n",
        "\n",
        "%rm -f p1.py\n",
        "%history -l 1 -f p1.py\n",
        "files.download(\"p1.py\")\n",
        "clear_output\n",
        "HTML(\"\"\"<span style=\"font-size: larger;\">\n",
        "   IMPORTANT: Please check the content in p1.py before your submission.</span></br>\n",
        "   <span><a href=\"https://cool.ntu.edu.tw/courses/9288/assignments/48064#submit\"\n",
        "   target=\"_blank\"\n",
        "   rel=\"noopener noreferrer\">Go to NTU COOL for submission!</a></span>\"\"\")"
      ],
      "execution_count": null,
      "outputs": [
        {
          "output_type": "display_data",
          "data": {
            "application/javascript": [
              "\n",
              "    async function download(id, filename, size) {\n",
              "      if (!google.colab.kernel.accessAllowed) {\n",
              "        return;\n",
              "      }\n",
              "      const div = document.createElement('div');\n",
              "      const label = document.createElement('label');\n",
              "      label.textContent = `Downloading \"${filename}\": `;\n",
              "      div.appendChild(label);\n",
              "      const progress = document.createElement('progress');\n",
              "      progress.max = size;\n",
              "      div.appendChild(progress);\n",
              "      document.body.appendChild(div);\n",
              "\n",
              "      const buffers = [];\n",
              "      let downloaded = 0;\n",
              "\n",
              "      const channel = await google.colab.kernel.comms.open(id);\n",
              "      // Send a message to notify the kernel that we're ready.\n",
              "      channel.send({})\n",
              "\n",
              "      for await (const message of channel.messages) {\n",
              "        // Send a message to notify the kernel that we're ready.\n",
              "        channel.send({})\n",
              "        if (message.buffers) {\n",
              "          for (const buffer of message.buffers) {\n",
              "            buffers.push(buffer);\n",
              "            downloaded += buffer.byteLength;\n",
              "            progress.value = downloaded;\n",
              "          }\n",
              "        }\n",
              "      }\n",
              "      const blob = new Blob(buffers, {type: 'application/binary'});\n",
              "      const a = document.createElement('a');\n",
              "      a.href = window.URL.createObjectURL(blob);\n",
              "      a.download = filename;\n",
              "      div.appendChild(a);\n",
              "      a.click();\n",
              "      div.remove();\n",
              "    }\n",
              "  "
            ],
            "text/plain": [
              "<IPython.core.display.Javascript object>"
            ]
          },
          "metadata": {}
        },
        {
          "output_type": "display_data",
          "data": {
            "application/javascript": [
              "download(\"download_bdc01aaf-f7d2-4a9d-a2eb-08389442cf33\", \"p1.py\", 484)"
            ],
            "text/plain": [
              "<IPython.core.display.Javascript object>"
            ]
          },
          "metadata": {}
        },
        {
          "output_type": "execute_result",
          "data": {
            "text/html": [
              "<span style=\"font-size: larger;\">\n",
              "   IMPORTANT: Please check the content in p1.py before your submission.</span></br>\n",
              "   <span><a href=\"https://cool.ntu.edu.tw/courses/9288/assignments/48064#submit\"\n",
              "   target=\"_blank\"\n",
              "   rel=\"noopener noreferrer\">Go to NTU COOL for submission!</a></span>"
            ],
            "text/plain": [
              "<IPython.core.display.HTML object>"
            ]
          },
          "metadata": {},
          "execution_count": 38
        }
      ]
    },
    {
      "cell_type": "markdown",
      "metadata": {
        "id": "JZIZ5qJbCPra"
      },
      "source": [
        "**IMPORTANT**: To get the correct result, you should execute the block with **p2_has_cycle** first and run this part directly afterward."
      ]
    },
    {
      "cell_type": "code",
      "metadata": {
        "colab": {
          "base_uri": "https://localhost:8080/",
          "height": 54
        },
        "id": "xpG-VRxrxIoY",
        "outputId": "45111062-9d5a-42fb-854a-75ca83c23bfe"
      },
      "source": [
        "#@title Run me to get `p2.py`!\n",
        "from google.colab import files\n",
        "from IPython.display import HTML, clear_output\n",
        "\n",
        "%rm -f p2.py\n",
        "%history -l 1 -f p2.py\n",
        "files.download(\"p2.py\")\n",
        "clear_output\n",
        "HTML(\"\"\"<span style=\"font-size: larger;\">\n",
        "   IMPORTANT: Please check the content in p2.py before your submission.</span></br>\n",
        "   <span><a href=\"https://cool.ntu.edu.tw/courses/9288/assignments/48065#submit\"\n",
        "   target=\"_blank\"\n",
        "   rel=\"noopener noreferrer\">Go to NTU COOL for submission!</a></span>\"\"\")"
      ],
      "execution_count": null,
      "outputs": [
        {
          "output_type": "display_data",
          "data": {
            "application/javascript": [
              "\n",
              "    async function download(id, filename, size) {\n",
              "      if (!google.colab.kernel.accessAllowed) {\n",
              "        return;\n",
              "      }\n",
              "      const div = document.createElement('div');\n",
              "      const label = document.createElement('label');\n",
              "      label.textContent = `Downloading \"${filename}\": `;\n",
              "      div.appendChild(label);\n",
              "      const progress = document.createElement('progress');\n",
              "      progress.max = size;\n",
              "      div.appendChild(progress);\n",
              "      document.body.appendChild(div);\n",
              "\n",
              "      const buffers = [];\n",
              "      let downloaded = 0;\n",
              "\n",
              "      const channel = await google.colab.kernel.comms.open(id);\n",
              "      // Send a message to notify the kernel that we're ready.\n",
              "      channel.send({})\n",
              "\n",
              "      for await (const message of channel.messages) {\n",
              "        // Send a message to notify the kernel that we're ready.\n",
              "        channel.send({})\n",
              "        if (message.buffers) {\n",
              "          for (const buffer of message.buffers) {\n",
              "            buffers.push(buffer);\n",
              "            downloaded += buffer.byteLength;\n",
              "            progress.value = downloaded;\n",
              "          }\n",
              "        }\n",
              "      }\n",
              "      const blob = new Blob(buffers, {type: 'application/binary'});\n",
              "      const a = document.createElement('a');\n",
              "      a.href = window.URL.createObjectURL(blob);\n",
              "      a.download = filename;\n",
              "      div.appendChild(a);\n",
              "      a.click();\n",
              "      div.remove();\n",
              "    }\n",
              "  "
            ],
            "text/plain": [
              "<IPython.core.display.Javascript object>"
            ]
          },
          "metadata": {}
        },
        {
          "output_type": "display_data",
          "data": {
            "application/javascript": [
              "download(\"download_a8e4d5e0-04ee-43e7-93a5-81ac212e1afa\", \"p2.py\", 484)"
            ],
            "text/plain": [
              "<IPython.core.display.Javascript object>"
            ]
          },
          "metadata": {}
        },
        {
          "output_type": "execute_result",
          "data": {
            "text/html": [
              "<span style=\"font-size: larger;\">\n",
              "   IMPORTANT: Please check the content in p2.py before your submission.</span></br>\n",
              "   <span><a href=\"https://cool.ntu.edu.tw/courses/9288/assignments/48065#submit\"\n",
              "   target=\"_blank\"\n",
              "   rel=\"noopener noreferrer\">Go to NTU COOL for submission!</a></span>"
            ],
            "text/plain": [
              "<IPython.core.display.HTML object>"
            ]
          },
          "metadata": {},
          "execution_count": 37
        }
      ]
    }
  ]
}