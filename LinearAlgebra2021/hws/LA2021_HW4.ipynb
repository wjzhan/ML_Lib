{
  "nbformat": 4,
  "nbformat_minor": 0,
  "metadata": {
    "colab": {
      "name": "LA2021_HW4",
      "provenance": [],
      "collapsed_sections": []
    },
    "kernelspec": {
      "name": "python3",
      "display_name": "Python 3"
    },
    "language_info": {
      "name": "python"
    }
  },
  "cells": [
    {
      "cell_type": "markdown",
      "metadata": {
        "id": "Enf1-oK6jPSV"
      },
      "source": [
        "#[Linear Algebra 2021 fall] HW4 : PageRank"
      ]
    },
    {
      "cell_type": "markdown",
      "metadata": {
        "id": "fDmOGUB1jV7i"
      },
      "source": [
        "####Connect to your google drive in order to save your file in drive. If you skip this step, you will lose your modified file whenever you close your browser."
      ]
    },
    {
      "cell_type": "code",
      "metadata": {
        "id": "y3TYdte2jYAJ",
        "colab": {
          "base_uri": "https://localhost:8080/"
        },
        "outputId": "5c544bf7-4de0-48e4-ceb8-e1393c8e6717"
      },
      "source": [
        "from google.colab import drive\n",
        "drive.mount('/content/drive', force_remount = True)"
      ],
      "execution_count": null,
      "outputs": [
        {
          "output_type": "stream",
          "name": "stdout",
          "text": [
            "Mounted at /content/drive\n"
          ]
        }
      ]
    },
    {
      "cell_type": "code",
      "metadata": {
        "id": "a2UDBSBLle3a",
        "colab": {
          "base_uri": "https://localhost:8080/"
        },
        "outputId": "68a64b15-1e00-4e37-976e-9b39e695307b"
      },
      "source": [
        "%cd ./drive/MyDrive"
      ],
      "execution_count": null,
      "outputs": [
        {
          "output_type": "stream",
          "name": "stdout",
          "text": [
            "/content/drive/MyDrive\n"
          ]
        }
      ]
    },
    {
      "cell_type": "markdown",
      "metadata": {
        "id": "wWIE6cHOjcaP"
      },
      "source": [
        "####Use `git clone` to download the homework file to colab.\n",
        "You will download HW4 code in the Github repository. After downloading, press \"Refresh\" button in \"File\", then you will see the `Linear_Algebra_2021_fall_hw4` directory. "
      ]
    },
    {
      "cell_type": "code",
      "metadata": {
        "id": "boU61t52kMsf",
        "colab": {
          "base_uri": "https://localhost:8080/"
        },
        "outputId": "acf538fb-0bd4-4fd1-e61b-4469d5c2b13e"
      },
      "source": [
        "import os\n",
        "import numpy as np\n",
        "if not os.path.isdir('Linear_Algebra_2021_fall_hw4'):\n",
        "  !git clone https://github.com/wengmaochi/Linear_Algebra_2021_fall_hw4.git\n",
        "\n",
        "os.chdir('./Linear_Algebra_2021_fall_hw4')"
      ],
      "execution_count": null,
      "outputs": [
        {
          "output_type": "stream",
          "name": "stdout",
          "text": [
            "Cloning into 'Linear_Algebra_2021_fall_hw4'...\n",
            "remote: Enumerating objects: 18, done.\u001b[K\n",
            "remote: Counting objects: 100% (18/18), done.\u001b[K\n",
            "remote: Compressing objects: 100% (18/18), done.\u001b[K\n",
            "remote: Total 18 (delta 5), reused 0 (delta 0), pack-reused 0\u001b[K\n",
            "Unpacking objects: 100% (18/18), done.\n"
          ]
        }
      ]
    },
    {
      "cell_type": "markdown",
      "metadata": {
        "id": "BRFZ472bjkna"
      },
      "source": [
        "Now you are in the `Linear_Algebra_2021_fall_hw4` directory."
      ]
    },
    {
      "cell_type": "code",
      "metadata": {
        "id": "F9LZRjOXjnKn",
        "colab": {
          "base_uri": "https://localhost:8080/"
        },
        "outputId": "2e71ff1c-29ee-41bf-fd40-b5bf8bc9d64c"
      },
      "source": [
        "!pwd\n",
        "# %cd Linear_Algebra_2021_fall_hw4"
      ],
      "execution_count": null,
      "outputs": [
        {
          "output_type": "stream",
          "name": "stdout",
          "text": [
            "/content/drive/MyDrive/Linear_Algebra_2021_fall_hw4\n"
          ]
        }
      ]
    },
    {
      "cell_type": "markdown",
      "metadata": {
        "id": "-3SA9c-tjpb5"
      },
      "source": [
        "##What you should do?\n",
        "####After downloading the files, you only have to implement the TODO in **PageRank.py**.\n"
      ]
    },
    {
      "cell_type": "markdown",
      "metadata": {
        "id": "gtyy4FCG5Ebw"
      },
      "source": [
        "####After you finish your PageRank.py, you can run the block below to check your code.\n",
        "#####Usage : `!python ./PageRank.py <input_file> <output_file> `\n"
      ]
    },
    {
      "cell_type": "code",
      "metadata": {
        "id": "KpPiTjBckPIi",
        "colab": {
          "base_uri": "https://localhost:8080/"
        },
        "outputId": "96f78a2d-50bd-4000-85f3-e9e7f118a6d4"
      },
      "source": [
        "!python ./PageRank.py ./inputs/summary1.json ./my_answer1.json"
      ],
      "execution_count": null,
      "outputs": [
        {
          "output_type": "stream",
          "name": "stdout",
          "text": [
            "Original transition matrix [[0. 0. 0. ... 0. 0. 0.]\n",
            " [0. 0. 0. ... 0. 0. 0.]\n",
            " [0. 0. 0. ... 0. 0. 0.]\n",
            " ...\n",
            " [0. 0. 0. ... 0. 0. 0.]\n",
            " [0. 0. 0. ... 0. 0. 0.]\n",
            " [0. 0. 0. ... 0. 0. 0.]]\n",
            "Your current answer [0. 0. 0. 0. 0. 0. 0. 0. 0. 0. 0. 0. 0. 0. 0. 0. 0. 0. 0. 0. 0. 0. 0. 0.\n",
            " 0. 0. 0. 0. 0. 0. 0. 0. 0. 0. 0. 0. 0. 0. 0. 0. 0. 0. 0. 0. 0. 0. 0. 0.\n",
            " 0. 0. 0. 0. 0. 0. 0. 0. 0. 0. 0. 0. 0. 0. 0. 0. 0. 0. 0. 0. 0. 0. 0. 0.\n",
            " 0. 0. 0. 0. 0. 0. 0. 0. 0. 0. 0. 0. 0. 0. 0. 0. 0. 0. 0. 0. 0. 0. 0. 0.\n",
            " 0. 0. 0. 0. 0. 0. 0. 0. 0. 0. 0. 0. 0. 0. 0. 0. 0. 0. 0. 0. 0. 0. 0. 0.\n",
            " 0. 0. 0. 0. 0. 0. 0. 0. 0. 0. 0. 0. 0. 0. 0. 0. 0. 0. 0. 0. 0. 0. 0. 0.\n",
            " 0. 0. 0. 0. 0. 0. 0. 0. 0. 0. 0. 0. 0. 0. 0. 0. 0. 0. 0. 0. 0. 0. 0. 0.\n",
            " 0. 0. 0. 0. 0. 0. 0. 0. 0. 0. 0. 0. 0. 0. 0. 0. 0. 0. 0. 0. 0. 0. 0. 0.\n",
            " 0. 0. 0. 0. 0. 0. 0. 0. 0. 0. 0. 0. 0. 0. 0. 0. 0. 0. 0. 0. 0. 0. 0. 0.\n",
            " 0. 0. 0. 0. 0. 0. 0. 0. 0. 0. 0. 0. 0. 0. 0. 0. 0. 0. 0. 0. 0. 0. 0. 0.\n",
            " 0. 0. 0. 0. 0. 0. 0. 0. 0. 0. 0. 0. 0. 0. 0. 0. 0. 0. 0. 0. 0. 0. 0. 0.\n",
            " 0. 0. 0. 0. 0. 0. 0. 0. 0. 0. 0. 0. 0. 0. 0. 0. 0. 0. 0. 0. 0. 0. 0. 0.\n",
            " 0. 0. 0. 0. 0. 0. 0. 0. 0. 0. 0. 0.]\n"
          ]
        }
      ]
    },
    {
      "cell_type": "markdown",
      "metadata": {
        "id": "xgA7BkMpkMN6"
      },
      "source": [
        "#### You will get your result as `<output_file>`, feel free to name it.\n",
        "Note that the json files in ./outputs are sample answers that you can compare your answers to. Hence, do not overwrite it!!\n",
        "####If you want to check two files are identical or not, you can use `diff` \n",
        "##### Usage : `diff <file1> <file2>`\n"
      ]
    },
    {
      "cell_type": "markdown",
      "metadata": {
        "id": "wGuFl4BRkPzb"
      },
      "source": [
        "##Run me to get PageRank.py !\n",
        "\n"
      ]
    },
    {
      "cell_type": "code",
      "metadata": {
        "id": "uL-aaSIKke5R",
        "colab": {
          "base_uri": "https://localhost:8080/",
          "height": 17
        },
        "outputId": "01a21089-1c52-4e1d-fa38-048712ad9620"
      },
      "source": [
        "from google.colab import files\n",
        "\n",
        "files.download(\"PageRank.py\")\n"
      ],
      "execution_count": null,
      "outputs": [
        {
          "output_type": "display_data",
          "data": {
            "application/javascript": [
              "\n",
              "    async function download(id, filename, size) {\n",
              "      if (!google.colab.kernel.accessAllowed) {\n",
              "        return;\n",
              "      }\n",
              "      const div = document.createElement('div');\n",
              "      const label = document.createElement('label');\n",
              "      label.textContent = `Downloading \"${filename}\": `;\n",
              "      div.appendChild(label);\n",
              "      const progress = document.createElement('progress');\n",
              "      progress.max = size;\n",
              "      div.appendChild(progress);\n",
              "      document.body.appendChild(div);\n",
              "\n",
              "      const buffers = [];\n",
              "      let downloaded = 0;\n",
              "\n",
              "      const channel = await google.colab.kernel.comms.open(id);\n",
              "      // Send a message to notify the kernel that we're ready.\n",
              "      channel.send({})\n",
              "\n",
              "      for await (const message of channel.messages) {\n",
              "        // Send a message to notify the kernel that we're ready.\n",
              "        channel.send({})\n",
              "        if (message.buffers) {\n",
              "          for (const buffer of message.buffers) {\n",
              "            buffers.push(buffer);\n",
              "            downloaded += buffer.byteLength;\n",
              "            progress.value = downloaded;\n",
              "          }\n",
              "        }\n",
              "      }\n",
              "      const blob = new Blob(buffers, {type: 'application/binary'});\n",
              "      const a = document.createElement('a');\n",
              "      a.href = window.URL.createObjectURL(blob);\n",
              "      a.download = filename;\n",
              "      div.appendChild(a);\n",
              "      a.click();\n",
              "      div.remove();\n",
              "    }\n",
              "  "
            ],
            "text/plain": [
              "<IPython.core.display.Javascript object>"
            ]
          },
          "metadata": {}
        },
        {
          "output_type": "display_data",
          "data": {
            "application/javascript": [
              "download(\"download_deba6c7a-6a30-4481-be08-ea493dba0574\", \"PageRank.py\", 1128)"
            ],
            "text/plain": [
              "<IPython.core.display.Javascript object>"
            ]
          },
          "metadata": {}
        }
      ]
    },
    {
      "cell_type": "markdown",
      "metadata": {
        "id": "S-rHtHGS3Aza"
      },
      "source": [
        "####You only need to submit your PageRank.py in NTU COOl !!!\n",
        "####The deadline is 12/10 23:59. Don't forget to submit your .py to NTU cool !!!\n"
      ]
    }
  ]
}