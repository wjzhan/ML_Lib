{
  "nbformat": 4,
  "nbformat_minor": 0,
  "metadata": {
    "colab": {
      "provenance": [],
      "collapsed_sections": [
        "cljvh_8xPl_x"
      ],
      "gpuType": "T4",
      "include_colab_link": true
    },
    "kernelspec": {
      "name": "python3",
      "display_name": "Python 3"
    },
    "accelerator": "GPU"
  },
  "cells": [
    {
      "cell_type": "markdown",
      "metadata": {
        "id": "view-in-github",
        "colab_type": "text"
      },
      "source": [
        "<a href=\"https://colab.research.google.com/github/wjzhan/ML_Lib/blob/main/README.md/colab_test.ipynb\" target=\"_parent\"><img src=\"https://colab.research.google.com/assets/colab-badge.svg\" alt=\"Open In Colab\"/></a>"
      ]
    },
    {
      "cell_type": "markdown",
      "metadata": {
        "id": "ca2CpPPUvO-h"
      },
      "source": [
        "# **Google Colab Tutorial**\n",
        "\n",
        "\n",
        "source: https://speech.ee.ntu.edu.tw/~hylee/ml/2023-spring.php\n"
      ]
    },
    {
      "cell_type": "markdown",
      "metadata": {
        "id": "xIN7RF4wjgHk"
      },
      "source": [
        "<p><img alt=\"Colaboratory logo\" height=\"45px\" src=\"/img/colab_favicon.ico\" align=\"left\" hspace=\"10px\" vspace=\"0px\"></p>\n",
        "\n",
        "<h1>What is Colaboratory?</h1>\n",
        "\n",
        "Colaboratory, or \"Colab\" for short, allows you to write and execute Python in your browser, with\n",
        "- Zero configuration required\n",
        "- Free access to GPUs\n",
        "- Easy sharing\n",
        "\n",
        "Whether you're a **student**, a **data scientist** or an **AI researcher**, Colab can make your work easier. Watch [Introduction to Colab](https://www.youtube.com/watch?v=inN8seMm7UI) to learn more, or just get started below!\n",
        "\n",
        "You can type python code in the code block, or use a leading exclamation mark ! to change the code block to bash environment to execute linux code."
      ]
    },
    {
      "cell_type": "markdown",
      "metadata": {
        "id": "IrAxlhp3VBMD"
      },
      "source": [
        "To utilize the free GPU provided by google, click on \"Runtime\"(執行階段) -> \"Change Runtime Type\"(變更執行階段類型). There are three options under \"Hardward Accelerator\"(硬體加速器), select \"GPU\".\n",
        "* Doing this will restart the session, so make sure you change to the desired runtime before executing any code.\n"
      ]
    },
    {
      "cell_type": "code",
      "metadata": {
        "id": "CLUWxZKbvQpx",
        "colab": {
          "base_uri": "https://localhost:8080/"
        },
        "outputId": "629e22ea-2030-49cb-83ff-6637dfee8062"
      },
      "source": [
        "import torch\n",
        "torch.cuda.is_available() # is GPU available\n",
        "# Outputs True if running with GPU"
      ],
      "execution_count": null,
      "outputs": [
        {
          "output_type": "execute_result",
          "data": {
            "text/plain": [
              "True"
            ]
          },
          "metadata": {},
          "execution_count": 1
        }
      ]
    },
    {
      "cell_type": "code",
      "source": [
        "# check allocated GPU type\n",
        "!nvidia-smi"
      ],
      "metadata": {
        "colab": {
          "base_uri": "https://localhost:8080/"
        },
        "id": "1jpUD08lMiDa",
        "outputId": "b8c2e286-33fb-4d91-8f50-ba98758d25b1"
      },
      "execution_count": null,
      "outputs": [
        {
          "output_type": "stream",
          "name": "stdout",
          "text": [
            "Mon Jun 19 03:43:11 2023       \n",
            "+-----------------------------------------------------------------------------+\n",
            "| NVIDIA-SMI 525.85.12    Driver Version: 525.85.12    CUDA Version: 12.0     |\n",
            "|-------------------------------+----------------------+----------------------+\n",
            "| GPU  Name        Persistence-M| Bus-Id        Disp.A | Volatile Uncorr. ECC |\n",
            "| Fan  Temp  Perf  Pwr:Usage/Cap|         Memory-Usage | GPU-Util  Compute M. |\n",
            "|                               |                      |               MIG M. |\n",
            "|===============================+======================+======================|\n",
            "|   0  Tesla T4            Off  | 00000000:00:04.0 Off |                    0 |\n",
            "| N/A   45C    P8     9W /  70W |      3MiB / 15360MiB |      0%      Default |\n",
            "|                               |                      |                  N/A |\n",
            "+-------------------------------+----------------------+----------------------+\n",
            "                                                                               \n",
            "+-----------------------------------------------------------------------------+\n",
            "| Processes:                                                                  |\n",
            "|  GPU   GI   CI        PID   Type   Process name                  GPU Memory |\n",
            "|        ID   ID                                                   Usage      |\n",
            "|=============================================================================|\n",
            "|  No running processes found                                                 |\n",
            "+-----------------------------------------------------------------------------+\n"
          ]
        }
      ]
    },
    {
      "cell_type": "markdown",
      "metadata": {
        "id": "EAM_tPQAELh0"
      },
      "source": [
        "**1. Download Files via google drive**\n",
        "\n",
        "  A file stored in Google Drive has the following sharing **link**：\n",
        "\n",
        "https://drive.google.com/file/d/14FK5G6DOh7EdLyoj4D5teRSzriTOUPD7/view?usp=sharing\n",
        "\n",
        "\n",
        "  It is possible to download the file via Colab knowing the **link**, using the **--fuzzy** command.\n",
        "\n",
        "\n",
        "\n",
        "\n"
      ]
    },
    {
      "cell_type": "code",
      "metadata": {
        "id": "XztYEj0oD7J3",
        "colab": {
          "base_uri": "https://localhost:8080/"
        },
        "outputId": "450d6c01-ec2a-4808-df79-92b5e30bef67"
      },
      "source": [
        "# Download the file with the following link,  and rename it to pikachu.png\n",
        "!gdown --fuzzy https://drive.google.com/file/d/14FK5G6DOh7EdLyoj4D5teRSzriTOUPD7/view?usp=sharing --output pikachu.png"
      ],
      "execution_count": null,
      "outputs": [
        {
          "output_type": "stream",
          "name": "stdout",
          "text": [
            "Downloading...\n",
            "From: https://drive.google.com/uc?id=14FK5G6DOh7EdLyoj4D5teRSzriTOUPD7\n",
            "To: /content/pikachu.png\n",
            "\r  0% 0.00/890k [00:00<?, ?B/s]\r100% 890k/890k [00:00<00:00, 183MB/s]\n"
          ]
        }
      ]
    },
    {
      "cell_type": "code",
      "metadata": {
        "id": "Gg3T23LXG-eL",
        "colab": {
          "base_uri": "https://localhost:8080/"
        },
        "outputId": "ae1c338b-b9c2-43ba-984a-acaa1812fdc2"
      },
      "source": [
        "# List all the files under the working directory\n",
        "!ls"
      ],
      "execution_count": null,
      "outputs": [
        {
          "output_type": "stream",
          "name": "stdout",
          "text": [
            "sample_data\n"
          ]
        }
      ]
    },
    {
      "cell_type": "markdown",
      "metadata": {
        "id": "38dcGQujOVWM"
      },
      "source": [
        "Exclamation mark (!) starts a new shell, does the operations, and then kills that shell, while percentage (%) affects the process associated with the notebook"
      ]
    },
    {
      "cell_type": "markdown",
      "metadata": {
        "id": "dOQxjfAZAsys"
      },
      "source": [
        "It can be seen that `pikachu.png` is saved the the current working directory.\n",
        "\n",
        "![](https://i.imgur.com/bonrOlgm.png)\n",
        "\n",
        "The working space is temporary, once you close the browser, the files will be gone.\n"
      ]
    },
    {
      "cell_type": "markdown",
      "source": [
        "Double click to view image\n",
        "\n",
        "![](https://imgur.com/MIPrdqu.png)"
      ],
      "metadata": {
        "id": "50uppJXgZwmW"
      }
    },
    {
      "cell_type": "markdown",
      "metadata": {
        "id": "k_gmTo9NKtu9"
      },
      "source": [
        "**2. Mounting Google Drive**\n",
        "\n",
        "  One advantage of using google colab is that connection with other google services such as Google Drive is simple. By mounting google drive, the working files can be stored permanantly. After executing the following code block, your google drive will be mounted at `/content/drive`"
      ]
    },
    {
      "cell_type": "markdown",
      "source": [
        "![](https://i.imgur.com/IbMf5Tg.png)"
      ],
      "metadata": {
        "id": "FyrDicHSYlb2"
      }
    },
    {
      "cell_type": "code",
      "metadata": {
        "id": "BmvzTF5IJ6TL",
        "colab": {
          "base_uri": "https://localhost:8080/"
        },
        "outputId": "15f90cb5-8d7f-4a23-e857-4c72a6c50eaa"
      },
      "source": [
        "from google.colab import drive\n",
        "drive.mount('/content/drive')"
      ],
      "execution_count": null,
      "outputs": [
        {
          "output_type": "stream",
          "name": "stdout",
          "text": [
            "Mounted at /content/drive\n"
          ]
        }
      ]
    },
    {
      "cell_type": "markdown",
      "metadata": {
        "id": "AkmayCmGMD03"
      },
      "source": [
        "After mounting the drive, the content of the google drive will be mounted on a directory named `MyDrive`\n",
        "\n",
        "![](https://i.imgur.com/jDtI10Cm.png)"
      ]
    },
    {
      "cell_type": "markdown",
      "metadata": {
        "id": "UhKhwipoMvXF"
      },
      "source": [
        "After mounting the drive, all the changes will be synced with the google drive.\n",
        "Since models could be quite large, make sure that your google drive has enough space."
      ]
    },
    {
      "cell_type": "code",
      "metadata": {
        "id": "UT0TEPRS7KF6",
        "colab": {
          "base_uri": "https://localhost:8080/"
        },
        "outputId": "145706ea-289e-4c17-d3ed-41ce5b7aa586"
      },
      "source": [
        "%cd /content/drive/MyDrive\n",
        "#change directory to google drive\n",
        "!mkdir ML2023 #make a directory named ML2023\n",
        "%cd ./ML2023\n",
        "#change directory to ML2023"
      ],
      "execution_count": null,
      "outputs": [
        {
          "output_type": "stream",
          "name": "stdout",
          "text": [
            "/content/drive/MyDrive\n",
            "/content/drive/MyDrive/ML2023\n"
          ]
        }
      ]
    },
    {
      "cell_type": "markdown",
      "metadata": {
        "id": "Oj13Q58QerAx"
      },
      "source": [
        "Use bash command pwd to output the current directory"
      ]
    },
    {
      "cell_type": "code",
      "metadata": {
        "id": "-S8l1-ReepkS",
        "colab": {
          "base_uri": "https://localhost:8080/"
        },
        "outputId": "d413e453-ae9d-4d51-e035-50940a353fd7"
      },
      "source": [
        "!pwd #output the current directory"
      ],
      "execution_count": null,
      "outputs": [
        {
          "output_type": "stream",
          "name": "stdout",
          "text": [
            "/content/drive/MyDrive/ML2023\n"
          ]
        }
      ]
    },
    {
      "cell_type": "markdown",
      "metadata": {
        "id": "qSSvrDaBiDrP"
      },
      "source": [
        "Repeat the downloading process, this time, the file will be stored permanently in your google drive."
      ]
    },
    {
      "cell_type": "code",
      "metadata": {
        "id": "b39YMYicASvP",
        "colab": {
          "base_uri": "https://localhost:8080/"
        },
        "outputId": "9a8795a4-13a1-4871-e924-618f70db0888"
      },
      "source": [
        "!gdown --fuzzy https://drive.google.com/file/d/14FK5G6DOh7EdLyoj4D5teRSzriTOUPD7/view?usp=sharing --output pikachu.png"
      ],
      "execution_count": null,
      "outputs": [
        {
          "output_type": "stream",
          "name": "stdout",
          "text": [
            "Downloading...\n",
            "From: https://drive.google.com/uc?id=14FK5G6DOh7EdLyoj4D5teRSzriTOUPD7\n",
            "To: /content/drive/MyDrive/ML2023/pikachu.png\n",
            "\r  0% 0.00/890k [00:00<?, ?B/s]\r100% 890k/890k [00:00<00:00, 132MB/s]\n"
          ]
        }
      ]
    },
    {
      "cell_type": "markdown",
      "source": [
        "Check the file structure\n",
        "\n",
        "![](https://imgur.com/ujnczAa.png)"
      ],
      "metadata": {
        "id": "BRTF7yxTY-aE"
      }
    },
    {
      "cell_type": "markdown",
      "metadata": {
        "id": "D0URgikZXl5I"
      },
      "source": [
        "For all the homeworks, the data can be downloaded and stored similar as demonstrated in this notebook."
      ]
    },
    {
      "cell_type": "markdown",
      "source": [
        "# **Google Colab Advanced Tips**\n"
      ],
      "metadata": {
        "id": "ty7pQLz1PkLb"
      }
    },
    {
      "cell_type": "markdown",
      "source": [
        "## 1. GPU 選擇問題\n",
        "\n",
        "### 🤔 Issue\n",
        "由於某些 HW 可能需要 train 比較久的作業，對於 GPU 本身的要求可能比較嚴苛。\n",
        "\n",
        "如果直接使用 K80 可能會跑非常久⋯⋯"
      ],
      "metadata": {
        "id": "cljvh_8xPl_x"
      }
    },
    {
      "cell_type": "markdown",
      "source": [
        "### 😅 Solution\n",
        "使用 `nvidia-smi` 確認 GPU 的名稱，人眼確認\n",
        "如果拿到 K80 即恢復原廠設定。"
      ],
      "metadata": {
        "id": "bGCELEd1Poea"
      }
    },
    {
      "cell_type": "code",
      "source": [
        "!nvidia-smi"
      ],
      "metadata": {
        "id": "hCcGIcg-PqZx",
        "colab": {
          "base_uri": "https://localhost:8080/"
        },
        "outputId": "86756488-7fbe-44b9-8285-9b402c23ca1a"
      },
      "execution_count": null,
      "outputs": [
        {
          "output_type": "stream",
          "name": "stdout",
          "text": [
            "Tue Feb 14 09:54:05 2023       \n",
            "+-----------------------------------------------------------------------------+\n",
            "| NVIDIA-SMI 510.47.03    Driver Version: 510.47.03    CUDA Version: 11.6     |\n",
            "|-------------------------------+----------------------+----------------------+\n",
            "| GPU  Name        Persistence-M| Bus-Id        Disp.A | Volatile Uncorr. ECC |\n",
            "| Fan  Temp  Perf  Pwr:Usage/Cap|         Memory-Usage | GPU-Util  Compute M. |\n",
            "|                               |                      |               MIG M. |\n",
            "|===============================+======================+======================|\n",
            "|   0  Tesla T4            Off  | 00000000:00:04.0 Off |                    0 |\n",
            "| N/A   43C    P8    10W /  70W |      3MiB / 15360MiB |      0%      Default |\n",
            "|                               |                      |                  N/A |\n",
            "+-------------------------------+----------------------+----------------------+\n",
            "                                                                               \n",
            "+-----------------------------------------------------------------------------+\n",
            "| Processes:                                                                  |\n",
            "|  GPU   GI   CI        PID   Type   Process name                  GPU Memory |\n",
            "|        ID   ID                                                   Usage      |\n",
            "|=============================================================================|\n",
            "|  No running processes found                                                 |\n",
            "+-----------------------------------------------------------------------------+\n"
          ]
        }
      ]
    },
    {
      "cell_type": "markdown",
      "source": [
        "## 2. Colab 斷線問題\n",
        "### 🤔 Issue\n",
        "由於 Colab 會偵測使用者是否在電腦前面使用，因此一定時間沒有動作會自動斷線"
      ],
      "metadata": {
        "id": "4elHdxW1Pr-f"
      }
    },
    {
      "cell_type": "markdown",
      "source": [
        "### 😅 Original Solution\n",
        "開啟 F12 控制臺，貼上 Javascript\n",
        "\n",
        "```javascript\n",
        "function ClickConnect() {\n",
        "    console.log(\"Working...\");  // debug 用\n",
        "    // 去選擇按鈕\n",
        "    var connectbutton = document.querySelector(\n",
        "        \"colab-toolbar-button\" +\n",
        "        \"#connect-icon.big-icon.icon-okay\");\n",
        "    // 點個兩下\n",
        "    connectbutton.click(); connectbutton.click();\n",
        "};\n",
        "\n",
        "// 設定固定每 10 分鐘點一下\n",
        "const stopit = setInterval(\n",
        "    ClickConnect, 10 * 60 * 1000);\n",
        "\n",
        "// 這行沒有沒關係，只是避免停不下來\n",
        "const stopping = stopper => clearInterval(stopper);\n",
        "```\n",
        "\n",
        "使得瀏覽器每 10 分鐘會自己按兩下這個按鈕\n",
        "&emsp;&emsp;&emsp;&emsp;&emsp;&emsp;&emsp;&emsp;<img src=\"https://i.imgur.com/Kuc4Lsz.png\" />\n"
      ],
      "metadata": {
        "id": "T-8yBX5VPtvl"
      }
    },
    {
      "cell_type": "markdown",
      "source": [
        "### 😄 Another Solution 1\n",
        "\n",
        "由於實際上網址列也可以執行 JavaScript，\n",
        "就是如果把\n",
        "```javascript\n",
        "console.log(\"Hi\");\n",
        "```\n",
        "前面加上 `javascript:` 放在網址列變成\n",
        "```\n",
        "javascript:console.log(\"Hi\");\n",
        "```\n",
        "就可以等效讓瀏覽器執行\n",
        "\n",
        "只是為了安全性，通常瀏覽器會自動把 `javascript:` 截掉\n",
        "***\n",
        "於是，如果把一個 `j` 切掉變成 `avascript:...`\n",
        "瀏覽器就不會發現了～\n",
        "下面的 code 會產生上面那份 code 的網址列版本\n",
        "\n",
        "![](https://i.imgur.com/1BlLdBk.png)\n"
      ],
      "metadata": {
        "id": "bUaTifk4PuTf"
      }
    },
    {
      "cell_type": "code",
      "source": [
        "import IPython\n",
        "from google.colab import output\n",
        "from IPython.display import Markdown\n",
        "\n",
        "# display JavaScript code\n",
        "display(IPython.display.Javascript('''\n",
        "  var string_to_paste = (\n",
        "      \"avascript:function ClickConnect() {    \"\n",
        "    + \"console.log('Working...');     \"\n",
        "    + \"var connectbutton = document.querySelector(\"\n",
        "    + \"        'colab-toolbar-button' +       \"\n",
        "    + \" '#connect-icon.big-icon.icon-okay');  \"\n",
        "    + \"  connectbutton.click();   \"\n",
        "    + \" connectbutton.click();};\"\n",
        "    + \"const stopit = setInterval(   \"\n",
        "    + \" ClickConnect, 10 * 60 * 1000);\"\n",
        "    + \"const stopper = stopper => \"\n",
        "    + \"clearInterval(stopper);\")\n",
        "  window.someValue = new Promise(resolve => {\n",
        "    setTimeout(() => {\n",
        "      resolve(string_to_paste);\n",
        "    }, 100);\n",
        "  });\n",
        "'''))\n",
        "\n",
        "# remind to prepend `j`\n",
        "print(\"\\x1b[01;31m請記得要在開頭加上 \\\"j\\\" ！\\x1b[0m\\n\")\n",
        "value = output.eval_js('someValue');\n",
        "\n",
        "# display\n",
        "value"
      ],
      "metadata": {
        "colab": {
          "base_uri": "https://localhost:8080/",
          "height": 87
        },
        "id": "JX23fkXjTX8O",
        "outputId": "c4eab654-e7ca-4cde-8842-28094e2480b4"
      },
      "execution_count": null,
      "outputs": [
        {
          "output_type": "display_data",
          "data": {
            "text/plain": [
              "<IPython.core.display.Javascript object>"
            ],
            "application/javascript": [
              "\n",
              "  var string_to_paste = (\n",
              "      \"avascript:function ClickConnect() {    \"\n",
              "    + \"console.log('Working...');     \"\n",
              "    + \"var connectbutton = document.querySelector(\"\n",
              "    + \"        'colab-toolbar-button' +       \"\n",
              "    + \" '#connect-icon.big-icon.icon-okay');  \"\n",
              "    + \"  connectbutton.click();   \"\n",
              "    + \" connectbutton.click();};\"\n",
              "    + \"const stopit = setInterval(   \"\n",
              "    + \" ClickConnect, 10 * 60 * 1000);\"\n",
              "    + \"const stopper = stopper => \"\n",
              "    + \"clearInterval(stopper);\")\n",
              "  window.someValue = new Promise(resolve => {\n",
              "    setTimeout(() => {\n",
              "      resolve(string_to_paste);\n",
              "    }, 100);\n",
              "  });\n"
            ]
          },
          "metadata": {}
        },
        {
          "output_type": "stream",
          "name": "stdout",
          "text": [
            "\u001b[01;31m請記得要在開頭加上 \"j\" ！\u001b[0m\n",
            "\n"
          ]
        },
        {
          "output_type": "execute_result",
          "data": {
            "text/plain": [
              "\"avascript:function ClickConnect() {    console.log('Working...');     var connectbutton = document.querySelector(        'colab-toolbar-button' +        '#connect-icon.big-icon.icon-okay');    connectbutton.click();    connectbutton.click();};const stopit = setInterval(    ClickConnect, 10 * 60 * 1000);const stopper = stopper => clearInterval(stopper);\""
            ],
            "application/vnd.google.colaboratory.intrinsic+json": {
              "type": "string"
            }
          },
          "metadata": {},
          "execution_count": 10
        }
      ]
    },
    {
      "cell_type": "markdown",
      "source": [
        "### 😄 Another Solution 2\n",
        "\n",
        "```javascript\n",
        "function ClickConnect() {\n",
        "    console.log(\"Working\");\n",
        "    document.querySelector(\"colab-connect-button\")\n",
        "            .shadowRoot\n",
        "            .getElementById(\"connect\").click();\n",
        "}\n",
        "\n",
        "setInterval(ClickConnect, 60000);\n",
        "```\n",
        "\n",
        "那就是把整堆 code 前面加上 `avascript:`\n",
        "最後手動加上 `j`，整個貼到網址列就行了～"
      ],
      "metadata": {
        "id": "St1hGBsYPwN4"
      }
    },
    {
      "cell_type": "markdown",
      "source": [
        "### 🚧 **Issues**\n",
        "+ [ ] 無法防止「我不是機器人」的情況\n",
        "> 如果有誰知道怎麼辦的，歡迎上 NTU COOL 分享～\n",
        "+ [ ] 其他非 Chrome 瀏覽器可能需要調整程式碼，可以從 F12 處理"
      ],
      "metadata": {
        "id": "NUZP6hSUPxyC"
      }
    },
    {
      "cell_type": "markdown",
      "source": [
        "# Reference\n",
        "This notebook uses code written by 陳建成 in 2021 and 孟妍 in 2022 and modified by 蕭淇元 and Kuang, Ming Chen in 2023"
      ],
      "metadata": {
        "id": "zbPH34ZCP1UE"
      }
    }
  ]
}